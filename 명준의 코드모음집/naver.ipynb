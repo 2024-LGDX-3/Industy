{
 "cells": [
  {
   "cell_type": "code",
   "execution_count": 26,
   "metadata": {},
   "outputs": [
    {
     "name": "stdout",
     "output_type": "stream",
     "text": [
      "['복잡한 <b>뉴스</b>를 어떻게 다루는가', '테슬라(TESLA) 수익률 및 주요 <b>뉴스</b> 점검', '9월 10일 화요일 개장 전 주식<b>뉴스</b> 미리보기', '■ 2024. 8. 12 (월) 중요<b>뉴스</b>', '가짜<b>뉴스</b> 최대 피해자는?']\n"
     ]
    }
   ],
   "source": [
    "import os\n",
    "import urllib.request\n",
    "import urllib.parse\n",
    "import json\n",
    "import html\n",
    "\n",
    "def get_blog_headlines(query, client_id, client_secret, num_results=5):\n",
    "    encText = urllib.parse.quote(query)\n",
    "    url = f\"https://openapi.naver.com/v1/search/blog?query={encText}\"\n",
    "\n",
    "    request = urllib.request.Request(url)\n",
    "    request.add_header(\"X-Naver-Client-Id\", client_id)\n",
    "    request.add_header(\"X-Naver-Client-Secret\", client_secret)\n",
    "\n",
    "    response = urllib.request.urlopen(request)\n",
    "    rescode = response.getcode()\n",
    "\n",
    "    if rescode == 200:\n",
    "        response_body = response.read()\n",
    "        data = json.loads(response_body.decode('utf-8'))\n",
    "        \n",
    "        # 헤드라인 5개 추출 및 HTML 이스케이프 코드 제거\n",
    "        items = data.get('items', [])\n",
    "        headlines = [html.unescape(item['title']) for item in items[:num_results]]\n",
    "        \n",
    "        return headlines\n",
    "    else:\n",
    "        print(f\"Error Code: {rescode}\")\n",
    "        return []\n",
    "\n",
    "# 예시 사용\n",
    "client_id = \"bS_lYerhOeXRuF8T3msb\"\n",
    "client_secret = \"35JuYHCjRH\"\n",
    "headlines = get_blog_headlines(\"뉴스\", client_id, client_secret)\n",
    "\n",
    "print(headlines)\n",
    "\n"
   ]
  },
  {
   "cell_type": "code",
   "execution_count": 23,
   "metadata": {},
   "outputs": [
    {
     "data": {
      "text/plain": [
       "'u'"
      ]
     },
     "execution_count": 23,
     "metadata": {},
     "output_type": "execute_result"
    }
   ],
   "source": []
  }
 ],
 "metadata": {
  "kernelspec": {
   "display_name": "base",
   "language": "python",
   "name": "python3"
  },
  "language_info": {
   "codemirror_mode": {
    "name": "ipython",
    "version": 3
   },
   "file_extension": ".py",
   "mimetype": "text/x-python",
   "name": "python",
   "nbconvert_exporter": "python",
   "pygments_lexer": "ipython3",
   "version": "3.11.7"
  }
 },
 "nbformat": 4,
 "nbformat_minor": 2
}
