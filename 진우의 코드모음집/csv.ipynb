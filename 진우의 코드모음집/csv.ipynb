{
 "cells": [
  {
   "cell_type": "code",
   "execution_count": 1,
   "metadata": {},
   "outputs": [
    {
     "name": "stdout",
     "output_type": "stream",
     "text": [
      "Requirement already satisfied: pandas in c:\\users\\dxschool\\appdata\\local\\programs\\python\\python312\\lib\\site-packages (2.2.2)\n",
      "Requirement already satisfied: numpy>=1.26.0 in c:\\users\\dxschool\\appdata\\local\\programs\\python\\python312\\lib\\site-packages (from pandas) (2.1.1)\n",
      "Requirement already satisfied: python-dateutil>=2.8.2 in c:\\users\\dxschool\\appdata\\roaming\\python\\python312\\site-packages (from pandas) (2.9.0.post0)\n",
      "Requirement already satisfied: pytz>=2020.1 in c:\\users\\dxschool\\appdata\\local\\programs\\python\\python312\\lib\\site-packages (from pandas) (2024.1)\n",
      "Requirement already satisfied: tzdata>=2022.7 in c:\\users\\dxschool\\appdata\\local\\programs\\python\\python312\\lib\\site-packages (from pandas) (2024.1)\n",
      "Requirement already satisfied: six>=1.5 in c:\\users\\dxschool\\appdata\\roaming\\python\\python312\\site-packages (from python-dateutil>=2.8.2->pandas) (1.16.0)\n",
      "Note: you may need to restart the kernel to use updated packages.\n"
     ]
    },
    {
     "name": "stderr",
     "output_type": "stream",
     "text": [
      "\n",
      "[notice] A new release of pip is available: 24.0 -> 24.2\n",
      "[notice] To update, run: python.exe -m pip install --upgrade pip\n"
     ]
    }
   ],
   "source": [
    "pip install pandas\n"
   ]
  },
  {
   "cell_type": "code",
   "execution_count": 4,
   "metadata": {},
   "outputs": [
    {
     "data": {
      "text/plain": [
       "['기분 전환 음악.csv',\n",
       " '댄스 비트 음악.csv',\n",
       " '따뜻한 발라드.csv',\n",
       " '명상 음악.csv',\n",
       " '모티베이션 음악.csv',\n",
       " '목욕할 때 듣기 좋은 노래.csv',\n",
       " '무기력 극복 음악.csv',\n",
       " '불면증 음악.csv',\n",
       " '불안 해소 음악.csv',\n",
       " '수면 음악.csv',\n",
       " '스트레스 해소 음악.csv',\n",
       " '신나는 음악.csv',\n",
       " '신나는 팝 음악.csv',\n",
       " '신나는노래.csv',\n",
       " '아이동요.csv',\n",
       " '아이유노래.csv',\n",
       " '어쿠스틱 음악.csv',\n",
       " '외로움 위로 음악.csv',\n",
       " '우울할때듣는노래.csv',\n",
       " '위로되는 노래.csv',\n",
       " '위로되는 발라드.csv',\n",
       " '지루함 해소 음악.csv',\n",
       " '진정 음악.csv',\n",
       " '차분한 선율 음악.csv',\n",
       " '차분한 음악.csv',\n",
       " '차분한 재즈.csv',\n",
       " '차분한 피아노 음악.csv',\n",
       " '청소노래.csv',\n",
       " '초조 해소 음악.csv',\n",
       " '편안한 수면 소리.csv',\n",
       " '편안한 음악.csv',\n",
       " '편안한 클래식 음악.csv',\n",
       " '편안한 휴식 음악.csv',\n",
       " '편안해지는 클래식.csv',\n",
       " '피로 해소 음악.csv',\n",
       " '피로가 풀리는 음악.csv',\n",
       " '합쳐진_유튜브_동영상_데이터.csv',\n",
       " '혼란 해소 음악.csv',\n",
       " '화 진정 음악.csv',\n",
       " '활력 넘치는 음악.csv',\n",
       " '휴식 음악.csv',\n",
       " '흥겨운 댄스 음악.csv',\n",
       " '힐링되는 노래.csv']"
      ]
     },
     "execution_count": 4,
     "metadata": {},
     "output_type": "execute_result"
    }
   ],
   "source": [
    "import os\n",
    "\n",
    "# 폴더 경로 설정 (폴더 경로를 자신의 환경에 맞게 수정하세요)\n",
    "folder_path = \"화장실 관련 노래\"\n",
    "\n",
    "# 폴더 내 모든 파일 리스트 가져오기\n",
    "files = os.listdir(folder_path)\n",
    "\n",
    "# CSV 파일만 필터링하기\n",
    "csv_files = [f for f in files if f.endswith('.csv')]\n",
    "\n",
    "# 결과 출력\n",
    "csv_files\n"
   ]
  },
  {
   "cell_type": "code",
   "execution_count": null,
   "metadata": {},
   "outputs": [],
   "source": []
  }
 ],
 "metadata": {
  "kernelspec": {
   "display_name": "Python 3",
   "language": "python",
   "name": "python3"
  },
  "language_info": {
   "codemirror_mode": {
    "name": "ipython",
    "version": 3
   },
   "file_extension": ".py",
   "mimetype": "text/x-python",
   "name": "python",
   "nbconvert_exporter": "python",
   "pygments_lexer": "ipython3",
   "version": "3.12.3"
  }
 },
 "nbformat": 4,
 "nbformat_minor": 2
}
