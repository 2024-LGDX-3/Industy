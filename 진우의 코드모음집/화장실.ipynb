{
 "cells": [
  {
   "cell_type": "code",
   "execution_count": 9,
   "metadata": {},
   "outputs": [
    {
     "data": {
      "text/html": [
       "<div>\n",
       "<style scoped>\n",
       "    .dataframe tbody tr th:only-of-type {\n",
       "        vertical-align: middle;\n",
       "    }\n",
       "\n",
       "    .dataframe tbody tr th {\n",
       "        vertical-align: top;\n",
       "    }\n",
       "\n",
       "    .dataframe thead th {\n",
       "        text-align: right;\n",
       "    }\n",
       "</style>\n",
       "<table border=\"1\" class=\"dataframe\">\n",
       "  <thead>\n",
       "    <tr style=\"text-align: right;\">\n",
       "      <th></th>\n",
       "      <th>파일 제목</th>\n",
       "      <th>제목</th>\n",
       "      <th>링크</th>\n",
       "    </tr>\n",
       "  </thead>\n",
       "  <tbody>\n",
       "    <tr>\n",
       "      <th>0</th>\n",
       "      <td>기분 전환 음악</td>\n",
       "      <td>기분 좋아지는 밝은 음악 모음  스트레스 해소음악, 산뜻한 피아노 연주곡, 기분전환...</td>\n",
       "      <td>https://www.youtube.com/watch?v=HS8jfHjtXj4&amp;pp...</td>\n",
       "    </tr>\n",
       "    <tr>\n",
       "      <th>1</th>\n",
       "      <td>기분 전환 음악</td>\n",
       "      <td>[Playlist] 기분전환하고 싶을 때 Pop Pop!ㅣIf you're feel...</td>\n",
       "      <td>https://www.youtube.com/watch?v=83j3iuGT7Zk&amp;pp...</td>\n",
       "    </tr>\n",
       "    <tr>\n",
       "      <th>2</th>\n",
       "      <td>기분 전환 음악</td>\n",
       "      <td>𝐏𝐥𝐚𝐲𝐥𝐢𝐬𝐭 이번 여름도 잘 부탁해  | 고막까지 시원하게 듣기만 해도 기분 좋...</td>\n",
       "      <td>https://www.youtube.com/watch?v=ohsMB2Whyf4&amp;pp...</td>\n",
       "    </tr>\n",
       "    <tr>\n",
       "      <th>3</th>\n",
       "      <td>기분 전환 음악</td>\n",
       "      <td>기분 좋아지는 밝은 음악 모음  스트레스 해소음악, 산뜻한 피아노 연주곡, 기분전환...</td>\n",
       "      <td>https://www.youtube.com/watch?v=hJygBE3DHdA&amp;pp...</td>\n",
       "    </tr>\n",
       "    <tr>\n",
       "      <th>4</th>\n",
       "      <td>기분 전환 음악</td>\n",
       "      <td>[𝐏𝐥𝐚𝐲𝐥𝐢𝐬𝐭] 아침 주말, 광합성하기 좋은 온실 카페에서 | 기분전환이 필요할...</td>\n",
       "      <td>https://www.youtube.com/watch?v=Ggp1OtT05oU&amp;pp...</td>\n",
       "    </tr>\n",
       "    <tr>\n",
       "      <th>...</th>\n",
       "      <td>...</td>\n",
       "      <td>...</td>\n",
       "      <td>...</td>\n",
       "    </tr>\n",
       "    <tr>\n",
       "      <th>17393</th>\n",
       "      <td>힐링되는 노래</td>\n",
       "      <td>Playlist  무기력할 땐 조금 쉬어가도 괜찮아,, | 잔잔한 감성 힐링 인디 ...</td>\n",
       "      <td>https://www.youtube.com/watch?v=UUf3aH6TJgg&amp;pp...</td>\n",
       "    </tr>\n",
       "    <tr>\n",
       "      <th>17394</th>\n",
       "      <td>힐링되는 노래</td>\n",
       "      <td>마음이 정화되는 수면유도 음악 추천</td>\n",
       "      <td>https://www.youtube.com/watch?v=IwOEQMF_tWk&amp;pp...</td>\n",
       "    </tr>\n",
       "    <tr>\n",
       "      <th>17395</th>\n",
       "      <td>힐링되는 노래</td>\n",
       "      <td>마음의 안정이 필요할때, 머리기 맑아지는 음악,힐링음악,휴식과 명상(Rest and...</td>\n",
       "      <td>https://www.youtube.com/watch?v=vozBtYZxygg&amp;pp...</td>\n",
       "    </tr>\n",
       "    <tr>\n",
       "      <th>17396</th>\n",
       "      <td>힐링되는 노래</td>\n",
       "      <td>가을에 듣기 좋은 힐링음악</td>\n",
       "      <td>https://www.youtube.com/watch?v=Rkrus3WT2iQ&amp;pp...</td>\n",
       "    </tr>\n",
       "    <tr>\n",
       "      <th>17397</th>\n",
       "      <td>힐링되는 노래</td>\n",
       "      <td>행복은 멀지 않은 곳에 있어 | 천유리 | 심신의 위로가 되는 힐링가요 | 3회 반...</td>\n",
       "      <td>https://www.youtube.com/watch?v=IoKHwcgC4NE&amp;pp...</td>\n",
       "    </tr>\n",
       "  </tbody>\n",
       "</table>\n",
       "<p>17398 rows × 3 columns</p>\n",
       "</div>"
      ],
      "text/plain": [
       "          파일 제목                                                 제목  \\\n",
       "0      기분 전환 음악  기분 좋아지는 밝은 음악 모음  스트레스 해소음악, 산뜻한 피아노 연주곡, 기분전환...   \n",
       "1      기분 전환 음악  [Playlist] 기분전환하고 싶을 때 Pop Pop!ㅣIf you're feel...   \n",
       "2      기분 전환 음악  𝐏𝐥𝐚𝐲𝐥𝐢𝐬𝐭 이번 여름도 잘 부탁해  | 고막까지 시원하게 듣기만 해도 기분 좋...   \n",
       "3      기분 전환 음악  기분 좋아지는 밝은 음악 모음  스트레스 해소음악, 산뜻한 피아노 연주곡, 기분전환...   \n",
       "4      기분 전환 음악  [𝐏𝐥𝐚𝐲𝐥𝐢𝐬𝐭] 아침 주말, 광합성하기 좋은 온실 카페에서 | 기분전환이 필요할...   \n",
       "...         ...                                                ...   \n",
       "17393   힐링되는 노래  Playlist  무기력할 땐 조금 쉬어가도 괜찮아,, | 잔잔한 감성 힐링 인디 ...   \n",
       "17394   힐링되는 노래                                마음이 정화되는 수면유도 음악 추천   \n",
       "17395   힐링되는 노래  마음의 안정이 필요할때, 머리기 맑아지는 음악,힐링음악,휴식과 명상(Rest and...   \n",
       "17396   힐링되는 노래                                     가을에 듣기 좋은 힐링음악   \n",
       "17397   힐링되는 노래  행복은 멀지 않은 곳에 있어 | 천유리 | 심신의 위로가 되는 힐링가요 | 3회 반...   \n",
       "\n",
       "                                                      링크  \n",
       "0      https://www.youtube.com/watch?v=HS8jfHjtXj4&pp...  \n",
       "1      https://www.youtube.com/watch?v=83j3iuGT7Zk&pp...  \n",
       "2      https://www.youtube.com/watch?v=ohsMB2Whyf4&pp...  \n",
       "3      https://www.youtube.com/watch?v=hJygBE3DHdA&pp...  \n",
       "4      https://www.youtube.com/watch?v=Ggp1OtT05oU&pp...  \n",
       "...                                                  ...  \n",
       "17393  https://www.youtube.com/watch?v=UUf3aH6TJgg&pp...  \n",
       "17394  https://www.youtube.com/watch?v=IwOEQMF_tWk&pp...  \n",
       "17395  https://www.youtube.com/watch?v=vozBtYZxygg&pp...  \n",
       "17396  https://www.youtube.com/watch?v=Rkrus3WT2iQ&pp...  \n",
       "17397  https://www.youtube.com/watch?v=IoKHwcgC4NE&pp...  \n",
       "\n",
       "[17398 rows x 3 columns]"
      ]
     },
     "execution_count": 9,
     "metadata": {},
     "output_type": "execute_result"
    }
   ],
   "source": [
    "import pandas as pd\n",
    "df = pd.read_csv(\"C:/Users/dxschool/화장실/화장실 관련 노래/합쳐진_유튜브_동영상_데이터.csv\")\n",
    "import emoji\n",
    "\n",
    "jm = [emoji.replace_emoji(tc) for tc in df['제목']]\n",
    "df['제목'] = jm\n",
    "\n",
    "df"
   ]
  },
  {
   "cell_type": "code",
   "execution_count": 10,
   "metadata": {},
   "outputs": [],
   "source": [
    "df.to_csv(\"이모지없앤거.csv\", index = False)"
   ]
  },
  {
   "cell_type": "code",
   "execution_count": 5,
   "metadata": {},
   "outputs": [
    {
     "name": "stdout",
     "output_type": "stream",
     "text": [
      "Collecting emoji\n",
      "  Downloading emoji-2.12.1-py3-none-any.whl.metadata (5.4 kB)\n",
      "Collecting typing-extensions>=4.7.0 (from emoji)\n",
      "  Downloading typing_extensions-4.12.2-py3-none-any.whl.metadata (3.0 kB)\n",
      "Downloading emoji-2.12.1-py3-none-any.whl (431 kB)\n",
      "   ---------------------------------------- 0.0/431.4 kB ? eta -:--:--\n",
      "   ------- -------------------------------- 81.9/431.4 kB 2.3 MB/s eta 0:00:01\n",
      "   ------------------------------------ --- 389.1/431.4 kB 4.9 MB/s eta 0:00:01\n",
      "   ---------------------------------------- 431.4/431.4 kB 4.5 MB/s eta 0:00:00\n",
      "Downloading typing_extensions-4.12.2-py3-none-any.whl (37 kB)\n",
      "Installing collected packages: typing-extensions, emoji\n",
      "Successfully installed emoji-2.12.1 typing-extensions-4.12.2\n",
      "Note: you may need to restart the kernel to use updated packages.\n"
     ]
    },
    {
     "name": "stderr",
     "output_type": "stream",
     "text": [
      "\n",
      "[notice] A new release of pip is available: 24.0 -> 24.2\n",
      "[notice] To update, run: python.exe -m pip install --upgrade pip\n"
     ]
    }
   ],
   "source": []
  }
 ],
 "metadata": {
  "kernelspec": {
   "display_name": "Python 3",
   "language": "python",
   "name": "python3"
  },
  "language_info": {
   "codemirror_mode": {
    "name": "ipython",
    "version": 3
   },
   "file_extension": ".py",
   "mimetype": "text/x-python",
   "name": "python",
   "nbconvert_exporter": "python",
   "pygments_lexer": "ipython3",
   "version": "3.12.3"
  }
 },
 "nbformat": 4,
 "nbformat_minor": 2
}
